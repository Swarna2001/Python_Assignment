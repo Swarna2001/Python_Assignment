{
 "cells": [
  {
   "cell_type": "markdown",
   "metadata": {},
   "source": [
    "TASK 1 - 1.Write a function to compute 5/0 and use try/except to catch the exceptions"
   ]
  },
  {
   "cell_type": "code",
   "execution_count": 1,
   "metadata": {},
   "outputs": [
    {
     "name": "stdout",
     "output_type": "stream",
     "text": [
      "division by zero\n"
     ]
    }
   ],
   "source": [
    "try:\n",
    "    answer = 5 / 0\n",
    "except Exception as e:\n",
    "    print(e)"
   ]
  },
  {
   "cell_type": "markdown",
   "metadata": {},
   "source": [
    "TASK 1 - 2.Implement a Python program to generate all sentences where subject is in [\"Americans\",\"Indians\"] and verb is in [\"Play\", \"watch\"] and the object is in [\"Baseball\",\"cricket\"]."
   ]
  },
  {
   "cell_type": "code",
   "execution_count": 5,
   "metadata": {},
   "outputs": [
    {
     "name": "stdout",
     "output_type": "stream",
     "text": [
      "Americans play baseball\n",
      "Americans play cricket\n",
      "Americans watch baseball\n",
      "Americans watch cricket\n",
      "Indians play baseball\n",
      "Indians play cricket\n",
      "Indians watch baseball\n",
      "Indians watch cricket\n"
     ]
    }
   ],
   "source": [
    "def gen_sentences(l1, l2, l3):\n",
    "    for i in l1:\n",
    "        for j in l2:\n",
    "            for k in l3:\n",
    "                yield \"{} {} {}\".format(i, j, k)\n",
    "\n",
    "Subjects = [\"Americans\", \"Indians\"]\n",
    "Verbs = [\"play\", \"watch\"]\n",
    "Objects = [\"baseball\", \"cricket\"]\n",
    "for line in gen_sentences(Subjects, Verbs, Objects):\n",
    "    print(line)\n"
   ]
  },
  {
   "cell_type": "markdown",
   "metadata": {},
   "source": [
    "TASK 2 - 1. Write a function so that the columns of the output matrix are powers of the input vector.The order of the powers is determined by the increasing boolean argument. Specifically, when increasing is False,the i-th output column is the input vector raised element-wise to the power of N - i - 1."
   ]
  },
  {
   "cell_type": "code",
   "execution_count": 13,
   "metadata": {},
   "outputs": [
    {
     "name": "stdout",
     "output_type": "stream",
     "text": [
      "Enter the input vector (separated by spaces)2 4 5 6 7\n",
      "Enter the value of n 3\n",
      "Enter the value of increaisng argument - True/False True\n",
      "[[ 1  2  4]\n",
      " [ 1  4 16]\n",
      " [ 1  5 25]\n",
      " [ 1  6 36]\n",
      " [ 1  7 49]]\n"
     ]
    }
   ],
   "source": [
    "import numpy as np\n",
    "\n",
    "def generate_matrix(input_vector, n, increasing_arg):\n",
    "    \"\"\" This function will generate the output matrix\"\"\"\n",
    "\n",
    "    if increasing_arg == 'False':\n",
    "    \n",
    "        output_matrix = np.array([x ** (n-i-1) for x in input_vector for i in range(n)]).reshape(len(input_vector), n)\n",
    "    else:\n",
    "        \n",
    "        output_matrix = np.array([x ** i for x in input_vector for i in range(n)]).reshape(len(input_vector), n)\n",
    "    \n",
    "    return output_matrix\n",
    "\n",
    "ip_vector = list(map(int, input(\"Enter the input vector (separated by spaces)\").split(\" \")))\n",
    "\n",
    "N = int(input(\"Enter the value of n \"))\n",
    "\n",
    "increasing = input(\"Enter the value of increaisng argument - True/False \")\n",
    "\n",
    "print(generate_matrix(ip_vector, N, increasing))\n"
   ]
  },
  {
   "cell_type": "code",
   "execution_count": null,
   "metadata": {},
   "outputs": [],
   "source": []
  },
  {
   "cell_type": "code",
   "execution_count": null,
   "metadata": {},
   "outputs": [],
   "source": []
  }
 ],
 "metadata": {
  "kernelspec": {
   "display_name": "Python 3",
   "language": "python",
   "name": "python3"
  },
  "language_info": {
   "codemirror_mode": {
    "name": "ipython",
    "version": 3
   },
   "file_extension": ".py",
   "mimetype": "text/x-python",
   "name": "python",
   "nbconvert_exporter": "python",
   "pygments_lexer": "ipython3",
   "version": "3.6.9"
  }
 },
 "nbformat": 4,
 "nbformat_minor": 4
}
